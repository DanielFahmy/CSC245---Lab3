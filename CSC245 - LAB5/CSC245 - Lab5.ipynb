{
 "cells": [
  {
   "cell_type": "code",
   "execution_count": 4,
   "id": "e758ee5c",
   "metadata": {},
   "outputs": [
    {
     "name": "stdout",
     "output_type": "stream",
     "text": [
      "<class 'pandas.core.frame.DataFrame'>\n",
      "RangeIndex: 891 entries, 0 to 890\n",
      "Data columns (total 16 columns):\n",
      " #   Column       Non-Null Count  Dtype  \n",
      "---  ------       --------------  -----  \n",
      " 0   survived     891 non-null    int64  \n",
      " 1   pclass       891 non-null    int64  \n",
      " 2   sex          891 non-null    object \n",
      " 3   age          714 non-null    float64\n",
      " 4   sibsp        891 non-null    int64  \n",
      " 5   parch        891 non-null    int64  \n",
      " 6   fare         891 non-null    float64\n",
      " 7   embarked     889 non-null    object \n",
      " 8   class        891 non-null    object \n",
      " 9   who          891 non-null    object \n",
      " 10  adult_male   891 non-null    bool   \n",
      " 11  deck         203 non-null    object \n",
      " 12  embark_town  889 non-null    object \n",
      " 13  alive        891 non-null    object \n",
      " 14  alone        891 non-null    bool   \n",
      " 15  Unnamed: 15  0 non-null      float64\n",
      "dtypes: bool(2), float64(3), int64(4), object(7)\n",
      "memory usage: 99.3+ KB\n",
      "None\n"
     ]
    }
   ],
   "source": [
    "#1. Write a Pandas program to print a concise summary of the dataset (titanic.csv).\n",
    "import pandas as pd\n",
    "\n",
    "df = pd.read_csv('C:\\\\Users\\\\danie\\\\OneDrive\\\\Documents\\\\GitHub\\\\CSC245---Lab3\\\\titanic.csv')\n",
    "print(df.info())\n"
   ]
  },
  {
   "cell_type": "code",
   "execution_count": 5,
   "id": "be184a44",
   "metadata": {},
   "outputs": [
    {
     "name": "stdout",
     "output_type": "stream",
     "text": [
      "Column Labels: ['survived', 'pclass', 'sex', 'age', 'sibsp', 'parch', 'fare', 'embarked', 'class', 'who', 'adult_male', 'deck', 'embark_town', 'alive', 'alone', 'Unnamed: 15']\n",
      "Shape: (891, 16)\n",
      "\n",
      "Data Types:\n",
      "survived         int64\n",
      "pclass           int64\n",
      "sex             object\n",
      "age            float64\n",
      "sibsp            int64\n",
      "parch            int64\n",
      "fare           float64\n",
      "embarked        object\n",
      "class           object\n",
      "who             object\n",
      "adult_male        bool\n",
      "deck            object\n",
      "embark_town     object\n",
      "alive           object\n",
      "alone             bool\n",
      "Unnamed: 15    float64\n",
      "dtype: object\n"
     ]
    }
   ],
   "source": [
    "#2. Write a Pandas program to extract the column labels, shape and data types of the dataset (titanic.csv).\n",
    "column_labels = df.columns.tolist()\n",
    "data_shape = df.shape\n",
    "data_types = df.dtypes\n",
    "print(\"Column Labels:\", column_labels)\n",
    "print(\"Shape:\", data_shape)\n",
    "print(\"\\nData Types:\")\n",
    "print(data_types)"
   ]
  },
  {
   "cell_type": "code",
   "execution_count": 6,
   "id": "e33ceffd",
   "metadata": {},
   "outputs": [
    {
     "name": "stdout",
     "output_type": "stream",
     "text": [
      "               survived\n",
      "sex    pclass          \n",
      "female 1       0.968085\n",
      "       2       0.921053\n",
      "       3       0.500000\n",
      "male   1       0.368852\n",
      "       2       0.157407\n",
      "       3       0.135447\n"
     ]
    }
   ],
   "source": [
    "#3. Write a Pandas program to create a Pivot table with multiple indexes from the data set of titanic.csv.\n",
    "pivot_table = pd.pivot_table(df, index=['sex', 'pclass'], values='survived', aggfunc='mean')\n",
    "print(pivot_table)"
   ]
  },
  {
   "cell_type": "code",
   "execution_count": 7,
   "id": "f6103944",
   "metadata": {},
   "outputs": [
    {
     "name": "stdout",
     "output_type": "stream",
     "text": [
      "Survival Rate by Gender on Various Classes:\n",
      "pclass         1         2         3\n",
      "sex                                 \n",
      "female  0.968085  0.921053  0.500000\n",
      "male    0.368852  0.157407  0.135447\n"
     ]
    }
   ],
   "source": [
    "#4. Write a Pandas program to create a Pivot table and find survival rate by gender on various classes.\n",
    "pivot_table = pd.pivot_table(df, index='sex', columns='pclass', values='survived', aggfunc='mean')\n",
    "print(\"Survival Rate by Gender on Various Classes:\")\n",
    "print(pivot_table)"
   ]
  },
  {
   "cell_type": "code",
   "execution_count": 8,
   "id": "fbb4b7bd",
   "metadata": {},
   "outputs": [
    {
     "name": "stdout",
     "output_type": "stream",
     "text": [
      "Survival Rate by Gender:\n",
      "        survived\n",
      "sex             \n",
      "female  0.742038\n",
      "male    0.188908\n"
     ]
    }
   ],
   "source": [
    "#5. Write a Pandas program to create a Pivot table and find survival rate by gender.\n",
    "pivot_table = pd.pivot_table(df, index='sex', values='survived', aggfunc='mean')\n",
    "\n",
    "print(\"Survival Rate by Gender:\")\n",
    "print(pivot_table)"
   ]
  },
  {
   "cell_type": "code",
   "execution_count": 9,
   "id": "70a2cb3b",
   "metadata": {},
   "outputs": [
    {
     "name": "stdout",
     "output_type": "stream",
     "text": [
      "Survival Rate by Gender, Age-wise of Various Classes:\n",
      "pclass                   1         2         3\n",
      "sex    age_group                              \n",
      "female 0-17       0.875000  1.000000  0.542857\n",
      "       18-29      0.954545  0.896552  0.487805\n",
      "       30-49      1.000000  0.925926  0.280000\n",
      "       50+        0.933333  0.833333  1.000000\n",
      "male   0-17       1.000000  0.818182  0.232558\n",
      "       18-29      0.428571  0.027778  0.147541\n",
      "       30-49      0.446809  0.102564  0.128205\n",
      "       50+        0.206897  0.076923  0.000000\n"
     ]
    }
   ],
   "source": [
    "#6. Write a Pandas program to create a Pivot table and find survival rate by gender, age wise of various classes.\n",
    "age_bins = [0, 18, 30, 50, 100]\n",
    "age_labels = ['0-17', '18-29', '30-49', '50+']\n",
    "df['age_group'] = pd.cut(df['age'], bins=age_bins, labels=age_labels, right=False)\n",
    "pivot_table = pd.pivot_table(df, index=['sex', 'age_group'], columns='pclass', values='survived', aggfunc='mean')\n",
    "print(\"Survival Rate by Gender, Age-wise of Various Classes:\")\n",
    "print(pivot_table)"
   ]
  },
  {
   "cell_type": "code",
   "execution_count": 10,
   "id": "82243ee6",
   "metadata": {},
   "outputs": [
    {
     "name": "stdout",
     "output_type": "stream",
     "text": [
      "    age age_category\n",
      "0  22.0  Young Adult\n",
      "1  38.0        Adult\n",
      "2  26.0  Young Adult\n",
      "3  35.0        Adult\n",
      "4  35.0        Adult\n"
     ]
    }
   ],
   "source": [
    "#7. Write a Pandas program to partition each of the passengers into four categories based on their age.\n",
    "age_bins = [0, 18, 35, 50, 100]\n",
    "age_labels = ['Child', 'Young Adult', 'Adult', 'Elderly']\n",
    "df['age_category'] = pd.cut(df['age'], bins=age_bins, labels=age_labels, right=False)\n",
    "print(df[['age', 'age_category']].head())"
   ]
  },
  {
   "cell_type": "code",
   "execution_count": 11,
   "id": "e2be74aa",
   "metadata": {},
   "outputs": [
    {
     "name": "stdout",
     "output_type": "stream",
     "text": [
      "Survival Count by Gender, Categories-wise Age, and Various Classes:\n",
      "age_category   0-9  10-29  30-59  60-79\n",
      "sex    pclass                          \n",
      "female 1         0     28     51      3\n",
      "       2         8     30     30      0\n",
      "       3        11     28      7      1\n",
      "male   1         2     11     25      1\n",
      "       2         9      1      4      1\n",
      "       3         8     20     10      0\n"
     ]
    }
   ],
   "source": [
    "#8. Write a Pandas program to create a Pivot table and count survival by gender, categories wise age of various classes.\n",
    "age_bins = [0, 10, 30, 60, 80]\n",
    "age_labels = ['0-9', '10-29', '30-59', '60-79']\n",
    "\n",
    "# Create a new column 'age_category' based on age bins\n",
    "df['age_category'] = pd.cut(df['age'], bins=age_bins, labels=age_labels, right=False)\n",
    "\n",
    "# Create a Pivot table to count survival by gender, categories-wise age, and various classes\n",
    "pivot_table = pd.pivot_table(df, index=['sex', 'pclass'], columns='age_category', values='survived', aggfunc='sum')\n",
    "\n",
    "print(\"Survival Count by Gender, Categories-wise Age, and Various Classes:\")\n",
    "print(pivot_table)"
   ]
  },
  {
   "cell_type": "code",
   "execution_count": 12,
   "id": "87eea17e",
   "metadata": {},
   "outputs": [
    {
     "name": "stdout",
     "output_type": "stream",
     "text": [
      "Survival Rate by Gender, Age of Different Categories of Various Classes:\n",
      "pclass                      1         2         3\n",
      "sex    age_category                              \n",
      "female 0-9           0.000000  1.000000  0.523810\n",
      "       10-29         0.965517  0.909091  0.509091\n",
      "       30-59         0.980769  0.909091  0.280000\n",
      "       60+           1.000000       NaN  1.000000\n",
      "male   0-9           1.000000  1.000000  0.380952\n",
      "       10-29         0.478261  0.026316  0.138889\n",
      "       30-59         0.403226  0.083333  0.119048\n",
      "       60+           0.142857  0.250000  0.000000\n"
     ]
    }
   ],
   "source": [
    "#9. Write a Pandas program to create a Pivot table and find survival rate by gender, age of the different categories of various classes.\n",
    "age_bins = [0, 10, 30, 60, 100]\n",
    "age_labels = ['0-9', '10-29', '30-59', '60+']\n",
    "df['age_category'] = pd.cut(df['age'], bins=age_bins, labels=age_labels, right=False)\n",
    "pivot_table = pd.pivot_table(df, index=['sex', 'age_category'], columns='pclass', values='survived', aggfunc='mean')\n",
    "print(\"Survival Rate by Gender, Age of Different Categories of Various Classes:\")\n",
    "print(pivot_table)"
   ]
  },
  {
   "cell_type": "code",
   "execution_count": 13,
   "id": "4496e968",
   "metadata": {},
   "outputs": [
    {
     "name": "stdout",
     "output_type": "stream",
     "text": [
      "Survival Rate by Gender, Age of Different Categories of Various Classes with Fare Dimension:\n",
      "pclass                     1                   2                   3          \n",
      "fare_category       Low Fare High Fare  Low Fare High Fare  Low Fare High Fare\n",
      "sex    age_category                                                           \n",
      "female 0-9               NaN  0.000000       NaN  1.000000  0.800000  0.437500\n",
      "       10-29             NaN  0.965517  0.923077  0.900000  0.589744  0.312500\n",
      "       30-59             NaN  0.980392  0.866667  0.944444  0.250000  0.294118\n",
      "       60+               NaN  1.000000       NaN       NaN  1.000000       NaN\n",
      "male   0-9               NaN  1.000000       NaN  1.000000  1.000000  0.277778\n",
      "       10-29             NaN  0.478261  0.040000  0.000000  0.142857  0.120000\n",
      "       30-59             0.0  0.410714  0.111111  0.047619  0.112676  0.153846\n",
      "       60+               NaN  0.142857  0.333333  0.000000  0.000000       NaN\n"
     ]
    }
   ],
   "source": [
    "#10. Write a Pandas program to create a Pivot table and find survival rate by gender, age of the different categories of various classes. Add the fare as a dimension of columns and partition fare column into 2 categories based on the values present in fare columns\n",
    "age_bins = [0, 10, 30, 60, 100]\n",
    "age_labels = ['0-9', '10-29', '30-59', '60+']\n",
    "df['age_category'] = pd.cut(df['age'], bins=age_bins, labels=age_labels, right=False)\n",
    "fare_median = df['fare'].median()\n",
    "df['fare_category'] = pd.cut(df['fare'], bins=[0, fare_median, df['fare'].max()], labels=['Low Fare', 'High Fare'], right=False)\n",
    "pivot_table = pd.pivot_table(df, index=['sex', 'age_category'], columns=['pclass', 'fare_category'], values='survived', aggfunc='mean')\n",
    "print(\"Survival Rate by Gender, Age of Different Categories of Various Classes with Fare Dimension:\")\n",
    "print(pivot_table)"
   ]
  },
  {
   "cell_type": "code",
   "execution_count": null,
   "id": "f95650fc",
   "metadata": {},
   "outputs": [],
   "source": []
  }
 ],
 "metadata": {
  "kernelspec": {
   "display_name": "Python 3 (ipykernel)",
   "language": "python",
   "name": "python3"
  },
  "language_info": {
   "codemirror_mode": {
    "name": "ipython",
    "version": 3
   },
   "file_extension": ".py",
   "mimetype": "text/x-python",
   "name": "python",
   "nbconvert_exporter": "python",
   "pygments_lexer": "ipython3",
   "version": "3.11.5"
  }
 },
 "nbformat": 4,
 "nbformat_minor": 5
}
