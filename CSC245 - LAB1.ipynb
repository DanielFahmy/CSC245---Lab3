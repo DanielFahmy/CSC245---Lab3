{
 "cells": [
  {
   "cell_type": "code",
   "execution_count": 1,
   "id": "3b6813d4",
   "metadata": {},
   "outputs": [
    {
     "name": "stdout",
     "output_type": "stream",
     "text": [
      "[[11 12 13 14]\n",
      " [15 16 17 18]]\n"
     ]
    }
   ],
   "source": [
    "#1. Create a rank 2 (2D) array that resembles the matrix below.\n",
    "import numpy as np\n",
    "array_2d = np.array([[11, 12, 13, 14], [15, 16, 17, 18]])\n",
    "print(array_2d)"
   ]
  },
  {
   "cell_type": "code",
   "execution_count": 2,
   "id": "0378f9c1",
   "metadata": {},
   "outputs": [
    {
     "name": "stdout",
     "output_type": "stream",
     "text": [
      "[[0. 0. 0.]\n",
      " [0. 0. 0.]\n",
      " [0. 0. 0.]\n",
      " [0. 0. 0.]]\n"
     ]
    }
   ],
   "source": [
    "#1. Create an array with 4 rows and 3 columns of zeros.\n",
    "zeros_array = np.zeros((4, 3))\n",
    "print(zeros_array)"
   ]
  },
  {
   "cell_type": "code",
   "execution_count": 3,
   "id": "c02a352c",
   "metadata": {},
   "outputs": [
    {
     "name": "stdout",
     "output_type": "stream",
     "text": [
      "[[1. 1. 1. 1.]\n",
      " [1. 1. 1. 1.]\n",
      " [1. 1. 1. 1.]]\n"
     ]
    }
   ],
   "source": [
    "#2.Create an array of ones that has 3 rows and 4 columns.\n",
    "ones_array = np.ones((3, 4))\n",
    "print(ones_array)"
   ]
  },
  {
   "cell_type": "code",
   "execution_count": 4,
   "id": "e68b1ff3",
   "metadata": {},
   "outputs": [
    {
     "name": "stdout",
     "output_type": "stream",
     "text": [
      "[ 4  5  6  7  8  9 10 11 12 13]\n"
     ]
    }
   ],
   "source": [
    "#3. Create an array containing integers 4 to 13 inclusive.\n",
    "array_integers = np.arange(4, 14)\n",
    "print(array_integers)"
   ]
  },
  {
   "cell_type": "code",
   "execution_count": 5,
   "id": "6baddcc6",
   "metadata": {},
   "outputs": [
    {
     "name": "stdout",
     "output_type": "stream",
     "text": [
      "[0.  1.5 3.  4.5]\n"
     ]
    }
   ],
   "source": [
    "#4. Create an array containing [0., 1.5, 3., 4.5]\n",
    "array_floats = np.array([0., 1.5, 3., 4.5])\n",
    "print(array_floats)"
   ]
  },
  {
   "cell_type": "code",
   "execution_count": 6,
   "id": "1935bc63",
   "metadata": {},
   "outputs": [
    {
     "name": "stdout",
     "output_type": "stream",
     "text": [
      "[[4 4]\n",
      " [4 4]]\n"
     ]
    }
   ],
   "source": [
    "#5. Create a 2 by 2 array containing '4' in each position.\n",
    "array_4s = np.full((2, 2), 4)\n",
    "print(array_4s)"
   ]
  },
  {
   "cell_type": "code",
   "execution_count": 7,
   "id": "20721ef6",
   "metadata": {},
   "outputs": [
    {
     "name": "stdout",
     "output_type": "stream",
     "text": [
      "[[1. 0. 0. 0.]\n",
      " [0. 1. 0. 0.]\n",
      " [0. 0. 1. 0.]\n",
      " [0. 0. 0. 1.]]\n",
      "[[10  0]\n",
      " [ 0 12]]\n"
     ]
    }
   ],
   "source": [
    "#6. Create 2 matrices:\n",
    "#i. Identity matrix of size 4\n",
    "#ii. Diagonal matrix with [10,12] as the diagonals\n",
    "identity_matrix = np.eye(4)\n",
    "print(identity_matrix)\n",
    "diagonal_matrix = np.diag([10, 12])\n",
    "print(diagonal_matrix)"
   ]
  },
  {
   "cell_type": "code",
   "execution_count": 8,
   "id": "809c0301",
   "metadata": {},
   "outputs": [
    {
     "name": "stdout",
     "output_type": "stream",
     "text": [
      "[[5.48813504 7.15189366 6.02763376]\n",
      " [5.44883183 4.23654799 6.45894113]\n",
      " [4.37587211 8.91773001 9.63662761]]\n"
     ]
    }
   ],
   "source": [
    "#7. Create a 3 by 3 array with random floats in [0, 10].\n",
    "np.random.seed(0)\n",
    "random_array = np.random.uniform(0, 10, size=(3, 3))\n",
    "print(random_array)"
   ]
  },
  {
   "cell_type": "code",
   "execution_count": 9,
   "id": "a373aaba",
   "metadata": {},
   "outputs": [
    {
     "name": "stdout",
     "output_type": "stream",
     "text": [
      "[[15 10 13]\n",
      " [13 17 19]\n",
      " [13 15 12]]\n"
     ]
    }
   ],
   "source": [
    "#8. Create a 3 by 3 array with random integers in [10, 20].\n",
    "np.random.seed(0)\n",
    "random_int_array = np.random.randint(10, 21, size=(3, 3))\n",
    "print(random_int_array)"
   ]
  },
  {
   "cell_type": "code",
   "execution_count": 10,
   "id": "0fd45c5a",
   "metadata": {},
   "outputs": [
    {
     "name": "stdout",
     "output_type": "stream",
     "text": [
      "Subarray of the first row and first 2 columns:\n",
      "[11 12]\n",
      "\n",
      "Array after changing elements in the first and second rows to 0:\n",
      "[[ 0  0  0]\n",
      " [ 0  0  0]\n",
      " [17 18 19]]\n"
     ]
    }
   ],
   "source": [
    "#SLICING ARRAYS\n",
    "#1. Use this array for the following practice:\n",
    "myArray = np.array([[11, 12, 13], [14, 15, 16], [17, 18, 19]])\n",
    "\n",
    "# a. Get a subarray of the first row and first 2 columns\n",
    "sub_array_a = myArray[0, :2]\n",
    "print(\"Subarray of the first row and first 2 columns:\")\n",
    "print(sub_array_a)\n",
    "\n",
    "# b. Change all elements in 1st and second row to 0\n",
    "myArray[:2, :] = 0\n",
    "print(\"\\nArray after changing elements in the first and second rows to 0:\")\n",
    "print(myArray)\n"
   ]
  },
  {
   "cell_type": "code",
   "execution_count": 11,
   "id": "b9237f3d",
   "metadata": {},
   "outputs": [
    {
     "name": "stdout",
     "output_type": "stream",
     "text": [
      "Array with reversed order:\n",
      "[20 19 18 17 16 15 14 13 12 11 10  9  8  7  6  5  4  3  2  1  0]\n",
      "\n",
      "Reshaped array with 3 rows:\n",
      "[[11 12]\n",
      " [13 14]\n",
      " [15 16]]\n"
     ]
    }
   ],
   "source": [
    "# Task 1: Create an array and reverse the order\n",
    "array_task_1 = np.arange(21)[::-1]\n",
    "print(\"Array with reversed order:\")\n",
    "print(array_task_1)\n",
    "\n",
    "# Task 2: Reshape the array myArray to an array with 3 rows\n",
    "myArray = np.array([[11, 12, 13], [14, 15, 16]])\n",
    "reshaped_array = myArray.reshape(3, 2)\n",
    "print(\"\\nReshaped array with 3 rows:\")\n",
    "print(reshaped_array)"
   ]
  },
  {
   "cell_type": "code",
   "execution_count": 12,
   "id": "36267e77",
   "metadata": {},
   "outputs": [
    {
     "name": "stdout",
     "output_type": "stream",
     "text": [
      "Square of every number in the array:\n",
      "[ 0  1  4  9 16 25 36 49 64 81]\n",
      "\n",
      "Square root of every number in the array:\n",
      "[0.         1.         1.41421356 1.73205081 2.         2.23606798\n",
      " 2.44948974 2.64575131 2.82842712 3.        ]\n",
      "\n",
      "Result of multiplying the square of each number with its square root:\n",
      "[  0.           1.           5.65685425  15.58845727  32.\n",
      "  55.90169944  88.18163074 129.64181424 181.01933598 243.        ]\n"
     ]
    }
   ],
   "source": [
    "#MATH \n",
    "#Use this array for the following practice: \n",
    "myArray = np.arange(10)\n",
    "\n",
    "# 1. Find the square of every number in array\n",
    "squared_array = np.square(myArray)\n",
    "print(\"Square of every number in the array:\")\n",
    "print(squared_array)\n",
    "\n",
    "# 2. Find the square root of every number in array\n",
    "sqrt_array = np.sqrt(myArray)\n",
    "print(\"\\nSquare root of every number in the array:\")\n",
    "print(sqrt_array)\n",
    "\n",
    "# 3. Multiply the square of each number in array with its respective square root\n",
    "result_array = squared_array * sqrt_array\n",
    "print(\"\\nResult of multiplying the square of each number with its square root:\")\n",
    "print(result_array)"
   ]
  },
  {
   "cell_type": "code",
   "execution_count": 13,
   "id": "406a8924",
   "metadata": {},
   "outputs": [
    {
     "name": "stdout",
     "output_type": "stream",
     "text": [
      "Array after adding a new row:\n",
      "[[11 12 13]\n",
      " [14 15 16]\n",
      " [17 18 19]\n",
      " [20 21 22]]\n"
     ]
    },
    {
     "ename": "ValueError",
     "evalue": "all the input array dimensions except for the concatenation axis must match exactly, but along dimension 0, the array at index 0 has size 4 and the array at index 1 has size 3",
     "output_type": "error",
     "traceback": [
      "\u001b[1;31m---------------------------------------------------------------------------\u001b[0m",
      "\u001b[1;31mValueError\u001b[0m                                Traceback (most recent call last)",
      "Cell \u001b[1;32mIn[13], line 13\u001b[0m\n\u001b[0;32m     11\u001b[0m \u001b[38;5;66;03m# 2. Add a new column of elements containing 30, 40, and 50\u001b[39;00m\n\u001b[0;32m     12\u001b[0m new_column \u001b[38;5;241m=\u001b[39m np\u001b[38;5;241m.\u001b[39marray([\u001b[38;5;241m30\u001b[39m, \u001b[38;5;241m40\u001b[39m, \u001b[38;5;241m50\u001b[39m])\n\u001b[1;32m---> 13\u001b[0m myArray \u001b[38;5;241m=\u001b[39m np\u001b[38;5;241m.\u001b[39mhstack([myArray, new_column\u001b[38;5;241m.\u001b[39mreshape(\u001b[38;5;241m-\u001b[39m\u001b[38;5;241m1\u001b[39m, \u001b[38;5;241m1\u001b[39m)])\n\u001b[0;32m     15\u001b[0m \u001b[38;5;28mprint\u001b[39m(\u001b[38;5;124m\"\u001b[39m\u001b[38;5;130;01m\\n\u001b[39;00m\u001b[38;5;124mArray after adding a new column:\u001b[39m\u001b[38;5;124m\"\u001b[39m)\n\u001b[0;32m     16\u001b[0m \u001b[38;5;28mprint\u001b[39m(myArray)\n",
      "File \u001b[1;32m<__array_function__ internals>:200\u001b[0m, in \u001b[0;36mhstack\u001b[1;34m(*args, **kwargs)\u001b[0m\n",
      "File \u001b[1;32m~\\anaconda3\\Lib\\site-packages\\numpy\\core\\shape_base.py:370\u001b[0m, in \u001b[0;36mhstack\u001b[1;34m(tup, dtype, casting)\u001b[0m\n\u001b[0;32m    368\u001b[0m     \u001b[38;5;28;01mreturn\u001b[39;00m _nx\u001b[38;5;241m.\u001b[39mconcatenate(arrs, \u001b[38;5;241m0\u001b[39m, dtype\u001b[38;5;241m=\u001b[39mdtype, casting\u001b[38;5;241m=\u001b[39mcasting)\n\u001b[0;32m    369\u001b[0m \u001b[38;5;28;01melse\u001b[39;00m:\n\u001b[1;32m--> 370\u001b[0m     \u001b[38;5;28;01mreturn\u001b[39;00m _nx\u001b[38;5;241m.\u001b[39mconcatenate(arrs, \u001b[38;5;241m1\u001b[39m, dtype\u001b[38;5;241m=\u001b[39mdtype, casting\u001b[38;5;241m=\u001b[39mcasting)\n",
      "File \u001b[1;32m<__array_function__ internals>:200\u001b[0m, in \u001b[0;36mconcatenate\u001b[1;34m(*args, **kwargs)\u001b[0m\n",
      "\u001b[1;31mValueError\u001b[0m: all the input array dimensions except for the concatenation axis must match exactly, but along dimension 0, the array at index 0 has size 4 and the array at index 1 has size 3"
     ]
    }
   ],
   "source": [
    "# Given array\n",
    "myArray = np.array([[11, 12, 13], [14, 15, 16], [17, 18, 19]])\n",
    "\n",
    "# 1. Add a new row of elements containing 20, 21, and 22\n",
    "new_row = np.array([20, 21, 22])\n",
    "myArray = np.vstack([myArray, new_row])\n",
    "\n",
    "print(\"Array after adding a new row:\")\n",
    "print(myArray)\n",
    "\n",
    "# 2. Add a new column of elements containing 30, 40, and 50\n",
    "new_column = np.array([30, 40, 50])\n",
    "myArray = np.hstack([myArray, new_column.reshape(-1, 1)])\n",
    "\n",
    "print(\"\\nArray after adding a new column:\")\n",
    "print(myArray)"
   ]
  },
  {
   "cell_type": "code",
   "execution_count": 14,
   "id": "9976dd84",
   "metadata": {},
   "outputs": [
    {
     "name": "stdout",
     "output_type": "stream",
     "text": [
      "Array after adding 1 column of 1:\n",
      "[[0. 0. 1.]\n",
      " [0. 0. 1.]]\n",
      "\n",
      "Array after adding 2 rows of 2:\n",
      "[[0. 0. 1.]\n",
      " [0. 0. 1.]\n",
      " [1. 1. 1.]\n",
      " [1. 1. 1.]]\n",
      "\n",
      "Array after removing the last column:\n",
      "[[0. 0.]\n",
      " [0. 0.]\n",
      " [1. 1.]\n",
      " [1. 1.]]\n",
      "\n",
      "Array after removing the last row:\n",
      "[[0. 0.]\n",
      " [0. 0.]\n",
      " [1. 1.]]\n"
     ]
    }
   ],
   "source": [
    "# 1. Add 1 column of 1 to this array: myArray = np.zeros((2,2))\n",
    "myArray = np.zeros((2, 2))\n",
    "myArray = np.hstack((myArray, np.ones((2, 1))))\n",
    "\n",
    "print(\"Array after adding 1 column of 1:\")\n",
    "print(myArray)\n",
    "\n",
    "# 2. Add 2 rows of 2 to the answer from part 1\n",
    "myArray = np.vstack((myArray, np.ones((2, 3))))\n",
    "\n",
    "print(\"\\nArray after adding 2 rows of 2:\")\n",
    "print(myArray)\n",
    "\n",
    "# 3. Remove the last column\n",
    "myArray = np.delete(myArray, -1, axis=1)\n",
    "\n",
    "print(\"\\nArray after removing the last column:\")\n",
    "print(myArray)\n",
    "\n",
    "# 4. Remove the last row\n",
    "myArray = np.delete(myArray, -1, axis=0)\n",
    "\n",
    "print(\"\\nArray after removing the last row:\")\n",
    "print(myArray)"
   ]
  },
  {
   "cell_type": "code",
   "execution_count": 15,
   "id": "67087369",
   "metadata": {},
   "outputs": [
    {
     "name": "stdout",
     "output_type": "stream",
     "text": [
      "Array after removing the middle column:\n",
      "[[1 3]\n",
      " [4 6]\n",
      " [9 7]]\n"
     ]
    }
   ],
   "source": [
    "#Deleting Elements\n",
    "myArray = np.matrix([[1, 2, 3], [4, 5, 6], [9, 8, 7]])\n",
    "\n",
    "# Remove the middle column (index 1) along axis 1 (columns)\n",
    "modified_array = np.delete(myArray, 1, axis=1)\n",
    "\n",
    "print(\"Array after removing the middle column:\")\n",
    "print(modified_array)"
   ]
  },
  {
   "cell_type": "code",
   "execution_count": 16,
   "id": "002b7942",
   "metadata": {},
   "outputs": [
    {
     "name": "stdout",
     "output_type": "stream",
     "text": [
      "Exercise 1 - Modified array:\n",
      "[ 0 -1  2 -1  4 -1  6 -1  8 -1]\n",
      "\n",
      "Exercise 2 - Reshaped array:\n",
      "[[0 1 2]\n",
      " [3 4 5]\n",
      " [6 7 8]]\n"
     ]
    }
   ],
   "source": [
    "#TEST EXERCISE\n",
    "# Exercise 1\n",
    "exercise_1 = np.array([0, 1, 2, 3, 4, 5, 6, 7, 8, 9])\n",
    "modified_exercise_1 = np.where(exercise_1 % 2 != 0, -1, exercise_1)\n",
    "\n",
    "print(\"Exercise 1 - Modified array:\")\n",
    "print(modified_exercise_1)\n",
    "\n",
    "# Exercise 2\n",
    "exercise_2 = np.array([0, 1, 2, 3, 4, 5, 6, 7, 8])\n",
    "reshaped_exercise_2 = exercise_2.reshape(3, -1)\n",
    "\n",
    "print(\"\\nExercise 2 - Reshaped array:\")\n",
    "print(reshaped_exercise_2)"
   ]
  },
  {
   "cell_type": "code",
   "execution_count": 17,
   "id": "64b89856",
   "metadata": {},
   "outputs": [
    {
     "name": "stdout",
     "output_type": "stream",
     "text": [
      "Modified array after adding 202 to all values:\n",
      "[[202 203]\n",
      " [204 205]]\n"
     ]
    }
   ],
   "source": [
    "# Exercise 3\n",
    "exercise_3 = np.arange(4).reshape(2, -1)\n",
    "\n",
    "# Add 202 to all values in the array\n",
    "modified_exercise_3 = exercise_3 + 202\n",
    "\n",
    "print(\"Modified array after adding 202 to all values:\")\n",
    "print(modified_exercise_3)"
   ]
  },
  {
   "cell_type": "code",
   "execution_count": 18,
   "id": "1c8c585b",
   "metadata": {},
   "outputs": [
    {
     "name": "stdout",
     "output_type": "stream",
     "text": [
      "Random integers between 30 and 40:\n",
      "[34 37 36 38 38 40 31 36 37 37]\n"
     ]
    }
   ],
   "source": [
    "# Generate a 1-D array of 10 random integers between 30 and 40 (inclusive)\n",
    "random_integers = np.random.randint(30, 41, size=10)\n",
    "\n",
    "print(\"Random integers between 30 and 40:\")\n",
    "print(random_integers)"
   ]
  },
  {
   "cell_type": "code",
   "execution_count": 19,
   "id": "e2bfe618",
   "metadata": {},
   "outputs": [
    {
     "name": "stdout",
     "output_type": "stream",
     "text": [
      "Positions where the value in x is more than its corresponding element in y:\n",
      "[1 2 4 5 6 7 8 9]\n",
      "\n",
      "Positions where the value in x equals its corresponding element in y:\n",
      "[0]\n"
     ]
    }
   ],
   "source": [
    "# Given arrays\n",
    "x = np.array([21, 64, 86, 22, 74, 55, 81, 79, 90, 89])\n",
    "y = np.array([21, 7, 3, 45, 10, 29, 55, 4, 37, 18])\n",
    "\n",
    "# Find positions where the value in x is more than its corresponding element in y\n",
    "more_positions = np.where(x > y)[0]\n",
    "\n",
    "# Find positions where the value in x equals its corresponding element in y\n",
    "equal_positions = np.where(x == y)[0]\n",
    "\n",
    "print(\"Positions where the value in x is more than its corresponding element in y:\")\n",
    "print(more_positions)\n",
    "\n",
    "print(\"\\nPositions where the value in x equals its corresponding element in y:\")\n",
    "print(equal_positions)"
   ]
  },
  {
   "cell_type": "code",
   "execution_count": null,
   "id": "69e30ae3",
   "metadata": {},
   "outputs": [],
   "source": [
    "#Extract the first four columns of this 2-D array\n",
    "# Given array\n",
    "exercise_6 = np.arange(100).reshape(5, -1)\n",
    "\n",
    "# Extract the first four columns\n",
    "first_four_columns = exercise_6[:, :4]\n",
    "\n",
    "print(\"First four columns of the array:\")\n",
    "print(first_four_columns)"
   ]
  }
 ],
 "metadata": {
  "kernelspec": {
   "display_name": "Python 3 (ipykernel)",
   "language": "python",
   "name": "python3"
  },
  "language_info": {
   "codemirror_mode": {
    "name": "ipython",
    "version": 3
   },
   "file_extension": ".py",
   "mimetype": "text/x-python",
   "name": "python",
   "nbconvert_exporter": "python",
   "pygments_lexer": "ipython3",
   "version": "3.11.5"
  }
 },
 "nbformat": 4,
 "nbformat_minor": 5
}
